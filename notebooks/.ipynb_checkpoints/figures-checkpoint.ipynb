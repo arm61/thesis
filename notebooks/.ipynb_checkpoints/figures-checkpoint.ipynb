{
 "cells": [
  {
   "cell_type": "code",
   "execution_count": 1,
   "metadata": {},
   "outputs": [
    {
     "ename": "ModuleNotFoundError",
     "evalue": "No module named 'reflectometry'",
     "output_type": "error",
     "traceback": [
      "\u001b[0;31m---------------------------------------------------------------------------\u001b[0m",
      "\u001b[0;31mModuleNotFoundError\u001b[0m                       Traceback (most recent call last)",
      "\u001b[0;32m<ipython-input-1-ceace597470a>\u001b[0m in \u001b[0;36m<module>\u001b[0;34m()\u001b[0m\n\u001b[1;32m      8\u001b[0m \u001b[0msns\u001b[0m\u001b[0;34m.\u001b[0m\u001b[0mset\u001b[0m\u001b[0;34m(\u001b[0m\u001b[0mpalette\u001b[0m\u001b[0;34m=\u001b[0m\u001b[0;34m'colorblind'\u001b[0m\u001b[0;34m)\u001b[0m\u001b[0;34m\u001b[0m\u001b[0m\n\u001b[1;32m      9\u001b[0m \u001b[0msys\u001b[0m\u001b[0;34m.\u001b[0m\u001b[0mpath\u001b[0m\u001b[0;34m.\u001b[0m\u001b[0minsert\u001b[0m\u001b[0;34m(\u001b[0m\u001b[0;36m0\u001b[0m\u001b[0;34m,\u001b[0m \u001b[0;34m'reports/code_blocks/'\u001b[0m\u001b[0;34m)\u001b[0m\u001b[0;34m\u001b[0m\u001b[0m\n\u001b[0;32m---> 10\u001b[0;31m \u001b[0;32mimport\u001b[0m \u001b[0mreflectometry\u001b[0m \u001b[0;32mas\u001b[0m \u001b[0mrefl\u001b[0m\u001b[0;34m\u001b[0m\u001b[0m\n\u001b[0m",
      "\u001b[0;31mModuleNotFoundError\u001b[0m: No module named 'reflectometry'"
     ]
    }
   ],
   "source": [
    "import numpy as np\n",
    "import matplotlib.pyplot as plt\n",
    "import seaborn as sns\n",
    "import sys\n",
    "import matplotlib.gridspec as gridspec\n",
    "import pandas as pd\n",
    "\n",
    "sns.set(palette='colorblind')\n",
    "sys.path.insert(0, 'reports/code_blocks/')\n",
    "import reflectometry as refl"
   ]
  },
  {
   "cell_type": "code",
   "execution_count": 15,
   "metadata": {},
   "outputs": [],
   "source": [
    "import matplotlib as mpl\n",
    "# Default parameters for matplotlib plots\n",
    "mpl.rcParams['xtick.labelsize'] = 8\n",
    "mpl.rcParams['ytick.labelsize'] = 8\n",
    "mpl.rcParams['axes.facecolor'] = 'w'\n",
    "mpl.rcParams['lines.linewidth'] = 2\n",
    "#mpl.rcParams['axes.grid'] = True\n",
    "#mpl.rcParams['grid.color'] = (0.8, 0.8, 0.8)\n",
    "mpl.rcParams['xtick.top'] = False\n",
    "mpl.rcParams['xtick.bottom'] = True\n",
    "mpl.rcParams['ytick.left'] = True\n",
    "mpl.rcParams['grid.linestyle'] = '--'\n",
    "mpl.rcParams['legend.fontsize'] = 8\n",
    "mpl.rcParams['legend.facecolor'] = [1,1,1]\n",
    "mpl.rcParams['legend.framealpha'] = 0.75\n",
    "mpl.rcParams['axes.labelsize'] = 8\n",
    "mpl.rcParams['axes.linewidth'] = 1\n",
    "mpl.rcParams['axes.edgecolor'] = 'k'"
   ]
  },
  {
   "cell_type": "code",
   "execution_count": 39,
   "metadata": {},
   "outputs": [],
   "source": [
    "x = np.arange(-10, 10, 0.01)\n",
    "y = np.ones_like(x) * 2.0719e-6\n",
    "for i in range(0, len(x)):\n",
    "    if x[i] < 0:\n",
    "        y[i] = 0"
   ]
  },
  {
   "cell_type": "code",
   "execution_count": 40,
   "metadata": {},
   "outputs": [],
   "source": [
    "x2 = np.array(x[:-1])\n",
    "y2 = np.array(x[:-1])\n",
    "for i in range(0, len(x)-1):\n",
    "    y2[i] = (y[i+1] - y[i]) / (x[i+1] - x[i])"
   ]
  },
  {
   "cell_type": "code",
   "execution_count": 41,
   "metadata": {},
   "outputs": [
    {
     "name": "stderr",
     "output_type": "stream",
     "text": [
      "/home/arm61/miniconda3/envs/thesis/lib/python3.7/site-packages/ipykernel/__main__.py:4: ComplexWarning: Casting complex values to real discards the imaginary part\n"
     ]
    }
   ],
   "source": [
    "q = np.arange(0.0005, 0.101, 0.0005)\n",
    "r = np.zeros_like(q)\n",
    "for i in range(0, len(q)):\n",
    "    r[i] = np.sum((y2 * np.exp(-1j * x2 * q[i])) ** 2)\n",
    "    r[i] *= 16 * np.pi ** 2\n",
    "    r[i] /= q[i] ** 4"
   ]
  },
  {
   "cell_type": "code",
   "execution_count": null,
   "metadata": {},
   "outputs": [],
   "source": [
    "plt.figure(figsize=(5, 25/6))\n",
    "gs = gridspec.GridSpec(2, 2)\n",
    "ax = plt.subplot(gs[0, 0])\n",
    "ax.plot(x, y*1e6)\n",
    "ax.set_xlabel(r'$z$/Å')\n",
    "ax.set_ylabel(r'$\\rho(z)$/$\\times10^{-6}$ Å$^{-2}$')\n",
    "ax.set_xlim([-10, 10])\n",
    "ax.set_xticks(np.arange(-10, 15, 5))\n",
    "ax.text(0.1, 0.92, '(a)',\n",
    "        horizontalalignment='center',\n",
    "        verticalalignment='center',\n",
    "        transform=ax.transAxes, size=8)\n",
    "ax = plt.subplot(gs[0, 1])\n",
    "ax.plot(x2, y2*1e4)\n",
    "ax.set_xlabel(r'$z$/Å')\n",
    "ax.set_ylabel(r\"$\\rho'(z)$/$\\times10^{-6}$ Å$^{-3}$\")\n",
    "ax.set_xlim([-10, 10])\n",
    "ax.set_xticks(np.arange(-10, 15, 5))\n",
    "ax.text(0.1, 0.92, '(b)',\n",
    "        horizontalalignment='center',\n",
    "        verticalalignment='center',\n",
    "        transform=ax.transAxes, size=8)\n",
    "ax = plt.subplot(gs[1, :])\n",
    "ra = refl.abeles(q, np.array([0, 2.0719e-6]), np.array([10, 10]))\n",
    "ax.plot(q, r * ra[-1]/r[-1], zorder=10)\n",
    "ax.plot(q, np.ones_like(q), lw=1)\n",
    "ax.set_xlabel(r'$q$/Å$^{-1}$')\n",
    "ax.set_ylabel(r'$R(q)$')\n",
    "ax.text(0.05, 0.92, '(c)',\n",
    "        horizontalalignment='center',\n",
    "        verticalalignment='center',\n",
    "        transform=ax.transAxes, size=8)\n",
    "ax.set_yscale('log')\n",
    "ax.set_xlim([0, 0.1])\n",
    "plt.tight_layout()\n",
    "plt.savefig('reports/figures/theory/kine.pdf')\n",
    "plt.close()"
   ]
  },
  {
   "cell_type": "code",
   "execution_count": null,
   "metadata": {
    "scrolled": false
   },
   "outputs": [],
   "source": [
    "x = np.arange(-10, 10, 0.01)\n",
    "y = np.ones_like(x) * 2.0719e-6\n",
    "for i in range(0, len(x)):\n",
    "    if x[i] < 0:\n",
    "        y[i] = 0\n",
    "        \n",
    "x2 = np.array(x[:-1])\n",
    "y2 = np.array(x[:-1])\n",
    "for i in range(0, len(x)-1):\n",
    "    y2[i] = (y[i+1] - y[i]) / (x[i+1] - x[i])\n",
    "    \n",
    "q = np.arange(0.0005, 0.101, 0.0005)\n",
    "r = np.zeros_like(q)\n",
    "for i in range(0, len(q)):\n",
    "    r[i] = np.sum((y2 * np.exp(-1j * x2 * q[i])) ** 2)\n",
    "    r[i] *= 16 * np.pi ** 2\n",
    "    r[i] /= q[i] ** 4\n",
    "\n",
    "plt.figure(figsize=(5, 25/11))\n",
    "gs = gridspec.GridSpec(1, 2)\n",
    "ax = plt.subplot(gs[0, :])\n",
    "ra = refl.abeles(q, np.array([0, 2.0719e-6]), np.array([10, 10]))\n",
    "ax.plot(q, ra, '--', zorder=10, c='#029E73')\n",
    "ax.plot(q, r * ra[-1]/r[-1], zorder=9, c='#0173B2')\n",
    "ax.plot(q, np.ones_like(q), c='#DE8F05', lw=1)\n",
    "ax.set_xlabel(r'$q$/Å$^{-1}$')\n",
    "ax.set_ylabel(r'$R(q)$')\n",
    "ax.set_yscale('log')\n",
    "ax.set_xlim([0, 0.1])\n",
    "plt.tight_layout()\n",
    "plt.savefig('reports/figures/theory/dyna.pdf')\n",
    "plt.close()"
   ]
  },
  {
   "cell_type": "code",
   "execution_count": 77,
   "metadata": {
    "scrolled": false
   },
   "outputs": [
    {
     "name": "stderr",
     "output_type": "stream",
     "text": [
      "/home/arm61/miniconda3/envs/thesis/lib/python3.7/site-packages/ipykernel/__main__.py:7: ComplexWarning: Casting complex values to real discards the imaginary part\n"
     ]
    },
    {
     "data": {
      "image/png": "[encoded data removed]",
      "text/plain": [
       "<Figure size 360x163.636 with 2 Axes>"
      ]
     },
     "metadata": {},
     "output_type": "display_data"
    }
   ],
   "source": [
    "x = np.arange(-10, 10, 0.005)\n",
    "beta = np.zeros_like(x)\n",
    "beta[np.where((x >= -5) & (x < 5))] = 1\n",
    "qx = np.arange(-1.5, 1.5, 0.001)\n",
    "dsc = np.zeros_like(qx)\n",
    "for i, q in enumerate(qx):\n",
    "    dsc[i] = np.sum(beta * np.exp(1j * q * x)) ** 2\n",
    "plt.figure(figsize=(5, 25/11))\n",
    "gs = gridspec.GridSpec(1, 2)\n",
    "ax = plt.subplot(gs[0, 0])\n",
    "ax.plot(x,beta)\n",
    "ax.set_yticks([0])\n",
    "ax.set_xlabel(r'x/Å')\n",
    "ax.set_ylabel(r'$\\beta/$Å$^{-2}$')\n",
    "ax.text(0.075, 0.92, '(a)',\n",
    "        horizontalalignment='center',\n",
    "        verticalalignment='center',\n",
    "        transform=ax.transAxes, size=8)\n",
    "ax = plt.subplot(gs[0, 1])\n",
    "ax.plot(qx, dsc)\n",
    "ax.set_yticks([0])\n",
    "ax.set_xticks([-1.2566, -0.6283, 0, 0.6283, 1.2566])\n",
    "ax.set_xticklabels([r'$\\frac{-4\\pi}{d_x}$', r'$\\frac{-2\\pi}{d_x}$', 0, r'$\\frac{2\\pi}{d_x}$', r'$\\frac{4\\pi}{d_x}$'])\n",
    "ax.set_xlabel(r'$q_x$/Å$^{-1}$')\n",
    "ax.set_ylabel(r'$\\frac{d\\sigma}{d\\Omega}$/Å$^{2}$')\n",
    "ax.text(0.075, 0.92, '(b)',\n",
    "        horizontalalignment='center',\n",
    "        verticalalignment='center',\n",
    "        transform=ax.transAxes, size=8)\n",
    "plt.tight_layout()\n",
    "plt.savefig('reports/figures/theory/scales.pdf')"
   ]
  },
  {
   "cell_type": "code",
   "execution_count": 19,
   "metadata": {},
   "outputs": [],
   "source": [
    "def sphere(r, q):\n",
    "     return np.square(np.divide((3 * (np.sin(q * r) - q * r * np.cos(q * r))), np.power((q * r), 3)))"
   ]
  },
  {
   "cell_type": "code",
   "execution_count": 91,
   "metadata": {},
   "outputs": [
    {
     "ename": "FileNotFoundError",
     "evalue": "[Errno 2] No such file or directory: 'reports/figures/theory/rg.pdf'",
     "output_type": "error",
     "traceback": [
      "\u001b[0;31m---------------------------------------------------------------------------\u001b[0m",
      "\u001b[0;31mFileNotFoundError\u001b[0m                         Traceback (most recent call last)",
      "\u001b[0;32m<ipython-input-91-b46ccc1f727c>\u001b[0m in \u001b[0;36m<module>\u001b[0;34m()\u001b[0m\n\u001b[1;32m     26\u001b[0m         transform=ax1.transAxes, size=8)\n\u001b[1;32m     27\u001b[0m \u001b[0mplt\u001b[0m\u001b[0;34m.\u001b[0m\u001b[0mtight_layout\u001b[0m\u001b[0;34m(\u001b[0m\u001b[0;34m)\u001b[0m\u001b[0;34m\u001b[0m\u001b[0m\n\u001b[0;32m---> 28\u001b[0;31m \u001b[0mplt\u001b[0m\u001b[0;34m.\u001b[0m\u001b[0msavefig\u001b[0m\u001b[0;34m(\u001b[0m\u001b[0;34m'reports/figures/theory/rg.pdf'\u001b[0m\u001b[0;34m)\u001b[0m\u001b[0;34m\u001b[0m\u001b[0m\n\u001b[0m",
      "\u001b[0;32m~/miniconda3/envs/thesis/lib/python3.7/site-packages/matplotlib/pyplot.py\u001b[0m in \u001b[0;36msavefig\u001b[0;34m(*args, **kwargs)\u001b[0m\n\u001b[1;32m    686\u001b[0m \u001b[0;32mdef\u001b[0m \u001b[0msavefig\u001b[0m\u001b[0;34m(\u001b[0m\u001b[0;34m*\u001b[0m\u001b[0margs\u001b[0m\u001b[0;34m,\u001b[0m \u001b[0;34m**\u001b[0m\u001b[0mkwargs\u001b[0m\u001b[0;34m)\u001b[0m\u001b[0;34m:\u001b[0m\u001b[0;34m\u001b[0m\u001b[0m\n\u001b[1;32m    687\u001b[0m     \u001b[0mfig\u001b[0m \u001b[0;34m=\u001b[0m \u001b[0mgcf\u001b[0m\u001b[0;34m(\u001b[0m\u001b[0;34m)\u001b[0m\u001b[0;34m\u001b[0m\u001b[0m\n\u001b[0;32m--> 688\u001b[0;31m     \u001b[0mres\u001b[0m \u001b[0;34m=\u001b[0m \u001b[0mfig\u001b[0m\u001b[0;34m.\u001b[0m\u001b[0msavefig\u001b[0m\u001b[0;34m(\u001b[0m\u001b[0;34m*\u001b[0m\u001b[0margs\u001b[0m\u001b[0;34m,\u001b[0m \u001b[0;34m**\u001b[0m\u001b[0mkwargs\u001b[0m\u001b[0;34m)\u001b[0m\u001b[0;34m\u001b[0m\u001b[0m\n\u001b[0m\u001b[1;32m    689\u001b[0m     \u001b[0mfig\u001b[0m\u001b[0;34m.\u001b[0m\u001b[0mcanvas\u001b[0m\u001b[0;34m.\u001b[0m\u001b[0mdraw_idle\u001b[0m\u001b[0;34m(\u001b[0m\u001b[0;34m)\u001b[0m   \u001b[0;31m# need this if 'transparent=True' to reset colors\u001b[0m\u001b[0;34m\u001b[0m\u001b[0m\n\u001b[1;32m    690\u001b[0m     \u001b[0;32mreturn\u001b[0m \u001b[0mres\u001b[0m\u001b[0;34m\u001b[0m\u001b[0m\n",
      "\u001b[0;32m~/miniconda3/envs/thesis/lib/python3.7/site-packages/matplotlib/figure.py\u001b[0m in \u001b[0;36msavefig\u001b[0;34m(self, fname, frameon, transparent, **kwargs)\u001b[0m\n\u001b[1;32m   2095\u001b[0m             \u001b[0mself\u001b[0m\u001b[0;34m.\u001b[0m\u001b[0mset_frameon\u001b[0m\u001b[0;34m(\u001b[0m\u001b[0mframeon\u001b[0m\u001b[0;34m)\u001b[0m\u001b[0;34m\u001b[0m\u001b[0m\n\u001b[1;32m   2096\u001b[0m \u001b[0;34m\u001b[0m\u001b[0m\n\u001b[0;32m-> 2097\u001b[0;31m         \u001b[0mself\u001b[0m\u001b[0;34m.\u001b[0m\u001b[0mcanvas\u001b[0m\u001b[0;34m.\u001b[0m\u001b[0mprint_figure\u001b[0m\u001b[0;34m(\u001b[0m\u001b[0mfname\u001b[0m\u001b[0;34m,\u001b[0m \u001b[0;34m**\u001b[0m\u001b[0mkwargs\u001b[0m\u001b[0;34m)\u001b[0m\u001b[0;34m\u001b[0m\u001b[0m\n\u001b[0m\u001b[1;32m   2098\u001b[0m \u001b[0;34m\u001b[0m\u001b[0m\n\u001b[1;32m   2099\u001b[0m         \u001b[0;32mif\u001b[0m \u001b[0mframeon\u001b[0m\u001b[0;34m:\u001b[0m\u001b[0;34m\u001b[0m\u001b[0m\n",
      "\u001b[0;32m~/miniconda3/envs/thesis/lib/python3.7/site-packages/matplotlib/backend_bases.py\u001b[0m in \u001b[0;36mprint_figure\u001b[0;34m(self, filename, dpi, facecolor, edgecolor, orientation, format, bbox_inches, **kwargs)\u001b[0m\n\u001b[1;32m   2073\u001b[0m                     \u001b[0morientation\u001b[0m\u001b[0;34m=\u001b[0m\u001b[0morientation\u001b[0m\u001b[0;34m,\u001b[0m\u001b[0;34m\u001b[0m\u001b[0m\n\u001b[1;32m   2074\u001b[0m                     \u001b[0mbbox_inches_restore\u001b[0m\u001b[0;34m=\u001b[0m\u001b[0m_bbox_inches_restore\u001b[0m\u001b[0;34m,\u001b[0m\u001b[0;34m\u001b[0m\u001b[0m\n\u001b[0;32m-> 2075\u001b[0;31m                     **kwargs)\n\u001b[0m\u001b[1;32m   2076\u001b[0m             \u001b[0;32mfinally\u001b[0m\u001b[0;34m:\u001b[0m\u001b[0;34m\u001b[0m\u001b[0m\n\u001b[1;32m   2077\u001b[0m                 \u001b[0;32mif\u001b[0m \u001b[0mbbox_inches\u001b[0m \u001b[0;32mand\u001b[0m \u001b[0mrestore_bbox\u001b[0m\u001b[0;34m:\u001b[0m\u001b[0;34m\u001b[0m\u001b[0m\n",
      "\u001b[0;32m~/miniconda3/envs/thesis/lib/python3.7/site-packages/matplotlib/backends/backend_pdf.py\u001b[0m in \u001b[0;36mprint_pdf\u001b[0;34m(self, filename, dpi, bbox_inches_restore, metadata, **kwargs)\u001b[0m\n\u001b[1;32m   2556\u001b[0m             \u001b[0mfile\u001b[0m \u001b[0;34m=\u001b[0m \u001b[0mfilename\u001b[0m\u001b[0;34m.\u001b[0m\u001b[0m_file\u001b[0m\u001b[0;34m\u001b[0m\u001b[0m\n\u001b[1;32m   2557\u001b[0m         \u001b[0;32melse\u001b[0m\u001b[0;34m:\u001b[0m\u001b[0;34m\u001b[0m\u001b[0m\n\u001b[0;32m-> 2558\u001b[0;31m             \u001b[0mfile\u001b[0m \u001b[0;34m=\u001b[0m \u001b[0mPdfFile\u001b[0m\u001b[0;34m(\u001b[0m\u001b[0mfilename\u001b[0m\u001b[0;34m,\u001b[0m \u001b[0mmetadata\u001b[0m\u001b[0;34m=\u001b[0m\u001b[0mmetadata\u001b[0m\u001b[0;34m)\u001b[0m\u001b[0;34m\u001b[0m\u001b[0m\n\u001b[0m\u001b[1;32m   2559\u001b[0m         \u001b[0;32mtry\u001b[0m\u001b[0;34m:\u001b[0m\u001b[0;34m\u001b[0m\u001b[0m\n\u001b[1;32m   2560\u001b[0m             \u001b[0mfile\u001b[0m\u001b[0;34m.\u001b[0m\u001b[0mnewPage\u001b[0m\u001b[0;34m(\u001b[0m\u001b[0mwidth\u001b[0m\u001b[0;34m,\u001b[0m \u001b[0mheight\u001b[0m\u001b[0;34m)\u001b[0m\u001b[0;34m\u001b[0m\u001b[0m\n",
      "\u001b[0;32m~/miniconda3/envs/thesis/lib/python3.7/site-packages/matplotlib/backends/backend_pdf.py\u001b[0m in \u001b[0;36m__init__\u001b[0;34m(self, filename, metadata)\u001b[0m\n\u001b[1;32m    431\u001b[0m         \u001b[0mself\u001b[0m\u001b[0;34m.\u001b[0m\u001b[0moriginal_file_like\u001b[0m \u001b[0;34m=\u001b[0m \u001b[0;32mNone\u001b[0m\u001b[0;34m\u001b[0m\u001b[0m\n\u001b[1;32m    432\u001b[0m         \u001b[0mself\u001b[0m\u001b[0;34m.\u001b[0m\u001b[0mtell_base\u001b[0m \u001b[0;34m=\u001b[0m \u001b[0;36m0\u001b[0m\u001b[0;34m\u001b[0m\u001b[0m\n\u001b[0;32m--> 433\u001b[0;31m         \u001b[0mfh\u001b[0m\u001b[0;34m,\u001b[0m \u001b[0mopened\u001b[0m \u001b[0;34m=\u001b[0m \u001b[0mcbook\u001b[0m\u001b[0;34m.\u001b[0m\u001b[0mto_filehandle\u001b[0m\u001b[0;34m(\u001b[0m\u001b[0mfilename\u001b[0m\u001b[0;34m,\u001b[0m \u001b[0;34m\"wb\"\u001b[0m\u001b[0;34m,\u001b[0m \u001b[0mreturn_opened\u001b[0m\u001b[0;34m=\u001b[0m\u001b[0;32mTrue\u001b[0m\u001b[0;34m)\u001b[0m\u001b[0;34m\u001b[0m\u001b[0m\n\u001b[0m\u001b[1;32m    434\u001b[0m         \u001b[0;32mif\u001b[0m \u001b[0;32mnot\u001b[0m \u001b[0mopened\u001b[0m\u001b[0;34m:\u001b[0m\u001b[0;34m\u001b[0m\u001b[0m\n\u001b[1;32m    435\u001b[0m             \u001b[0;32mtry\u001b[0m\u001b[0;34m:\u001b[0m\u001b[0;34m\u001b[0m\u001b[0m\n",
      "\u001b[0;32m~/miniconda3/envs/thesis/lib/python3.7/site-packages/matplotlib/cbook/__init__.py\u001b[0m in \u001b[0;36mto_filehandle\u001b[0;34m(fname, flag, return_opened, encoding)\u001b[0m\n\u001b[1;32m    390\u001b[0m             \u001b[0mfh\u001b[0m \u001b[0;34m=\u001b[0m \u001b[0mbz2\u001b[0m\u001b[0;34m.\u001b[0m\u001b[0mBZ2File\u001b[0m\u001b[0;34m(\u001b[0m\u001b[0mfname\u001b[0m\u001b[0;34m,\u001b[0m \u001b[0mflag\u001b[0m\u001b[0;34m)\u001b[0m\u001b[0;34m\u001b[0m\u001b[0m\n\u001b[1;32m    391\u001b[0m         \u001b[0;32melse\u001b[0m\u001b[0;34m:\u001b[0m\u001b[0;34m\u001b[0m\u001b[0m\n\u001b[0;32m--> 392\u001b[0;31m             \u001b[0mfh\u001b[0m \u001b[0;34m=\u001b[0m \u001b[0mopen\u001b[0m\u001b[0;34m(\u001b[0m\u001b[0mfname\u001b[0m\u001b[0;34m,\u001b[0m \u001b[0mflag\u001b[0m\u001b[0;34m,\u001b[0m \u001b[0mencoding\u001b[0m\u001b[0;34m=\u001b[0m\u001b[0mencoding\u001b[0m\u001b[0;34m)\u001b[0m\u001b[0;34m\u001b[0m\u001b[0m\n\u001b[0m\u001b[1;32m    393\u001b[0m         \u001b[0mopened\u001b[0m \u001b[0;34m=\u001b[0m \u001b[0;32mTrue\u001b[0m\u001b[0;34m\u001b[0m\u001b[0m\n\u001b[1;32m    394\u001b[0m     \u001b[0;32melif\u001b[0m \u001b[0mhasattr\u001b[0m\u001b[0;34m(\u001b[0m\u001b[0mfname\u001b[0m\u001b[0;34m,\u001b[0m \u001b[0;34m'seek'\u001b[0m\u001b[0;34m)\u001b[0m\u001b[0;34m:\u001b[0m\u001b[0;34m\u001b[0m\u001b[0m\n",
      "\u001b[0;31mFileNotFoundError\u001b[0m: [Errno 2] No such file or directory: 'reports/figures/theory/rg.pdf'"
     ]
    },
    {
     "data": {
      "image/png": "[encoded data removed]",
      "text/plain": [
       "<Figure size 360x300 with 2 Axes>"
      ]
     },
     "metadata": {
      "needs_background": "light"
     },
     "output_type": "display_data"
    }
   ],
   "source": [
    "q = np.linspace(0.001, 0.75, 100)\n",
    "i = sphere(20, q)\n",
    "i[np.where(i<0.0001)] = 0.0001\n",
    "plt.figure(figsize=(5, 25/6))\n",
    "gs = gridspec.GridSpec(2, 1)\n",
    "ax = plt.subplot(gs[0, 0])\n",
    "ax.plot(q, i)\n",
    "ax.set_xscale('log')\n",
    "ax.set_yscale('log')\n",
    "ax.set_xlabel(r'$q$/Å$^{-1}$')\n",
    "ax.set_ylabel(r'$I(q)$')\n",
    "ax.set_xlim(0.01, 0.75)\n",
    "ax.text(0.05, 0.08, '(a)',\n",
    "        horizontalalignment='center',\n",
    "        verticalalignment='center',\n",
    "        transform=ax.transAxes, size=8)\n",
    "ax1 = plt.subplot(gs[1, 0])\n",
    "ax1.plot(q * q, np.log(i))\n",
    "ax1.plot(q[:40] * q[:40], -((20 * np.sqrt(3 / 5)) ** 2 / 3) * q[:40] * q[:40])\n",
    "ax1.set_xlim(0.0, 0.25)\n",
    "ax1.set_xlabel(r'$q^2$/Å$^{-2}$')\n",
    "ax1.set_ylabel(r'ln[$I(q)$]')\n",
    "ax1.text(0.05, 0.08, '(b)',\n",
    "        horizontalalignment='center',\n",
    "        verticalalignment='center',\n",
    "        transform=ax1.transAxes, size=8)\n",
    "plt.tight_layout()\n",
    "plt.savefig('reports/figures/theory/rg.pdf')"
   ]
  },
  {
   "cell_type": "code",
   "execution_count": 7,
   "metadata": {},
   "outputs": [
    {
     "data": {
      "text/plain": [
       "<bound method NDFrame.head of          <X>          <Y>  <dY>\n",
       "0   0.000500  2444.710000     0\n",
       "1   0.010694  2304.430000     0\n",
       "2   0.020888  1945.450000     0\n",
       "3   0.031082  1458.990000     0\n",
       "4   0.041275   956.600000     0\n",
       "5   0.051469   532.515000     0\n",
       "6   0.061663   237.778000     0\n",
       "7   0.071857    74.972200     0\n",
       "8   0.082051    11.714200     0\n",
       "9   0.092245     3.129330     0\n",
       "10  0.102439    11.678900     0\n",
       "11  0.112633    16.873800     0\n",
       "12  0.122827    14.186000     0\n",
       "13  0.133020     7.718250     0\n",
       "14  0.143214     2.587060     0\n",
       "15  0.153408     0.863008     0\n",
       "16  0.163602     1.526620     0\n",
       "17  0.173796     2.518160     0\n",
       "18  0.183990     2.590320     0\n",
       "19  0.194184     1.804990     0\n",
       "20  0.204378     0.904858     0\n",
       "21  0.214571     0.464120     0\n",
       "22  0.224765     0.513574     0\n",
       "23  0.234959     0.722738     0\n",
       "24  0.245153     0.785537     0\n",
       "25  0.255347     0.641633     0\n",
       "26  0.265541     0.427287     0\n",
       "27  0.275735     0.293628     0\n",
       "28  0.285929     0.280783     0\n",
       "29  0.296122     0.324961     0\n",
       "30  0.306316     0.344927     0\n",
       "31  0.316510     0.311641     0\n",
       "32  0.326704     0.252124     0\n",
       "33  0.336898     0.207613     0\n",
       "34  0.347092     0.195185     0\n",
       "35  0.357286     0.202126     0\n",
       "36  0.367480     0.206155     0\n",
       "37  0.377673     0.196362     0\n",
       "38  0.387867     0.177841     0\n",
       "39  0.398061     0.161912     0\n",
       "40  0.408255     0.154730     0\n",
       "41  0.418449     0.153985     0\n",
       "42  0.428643     0.153569     0\n",
       "43  0.438837     0.149715     0\n",
       "44  0.449031     0.143160     0\n",
       "45  0.459224     0.136957     0\n",
       "46  0.469418     0.133171     0\n",
       "47  0.479612     0.131509     0\n",
       "48  0.489806     0.130324     0\n",
       "49  0.500000     0.128325     0>"
      ]
     },
     "execution_count": 7,
     "metadata": {},
     "output_type": "execute_result"
    }
   ],
   "source": [
    "data = pd.read_csv('data/theory/Experimental-sphere.txt', delim_whitespace=True)\n",
    "data.head"
   ]
  },
  {
   "cell_type": "code",
   "execution_count": 36,
   "metadata": {},
   "outputs": [
    {
     "data": {
      "text/plain": [
       "Text(0.5, 0, 'q/Å$^{-1}$')"
      ]
     },
     "execution_count": 36,
     "metadata": {},
     "output_type": "execute_result"
    },
    {
     "data": {
      "image/png": "[encoded data removed]",
      "text/plain": [
       "<Figure size 432x288 with 1 Axes>"
      ]
     },
     "metadata": {
      "needs_background": "light"
     },
     "output_type": "display_data"
    }
   ],
   "source": [
    "plt.figure(figsize=(5, 25/11))\n",
    "plt.errorbar(data['<X>'], data['<Y>'], yerr=data['<Y>']*0.1, marker='o', ls='')\n",
    "plt.yscale('log')\n",
    "r = 50\n",
    "q = np.linspace(data['<X>'].iloc[0], data['<X>'].iloc[-1], 1000)\n",
    "a = sphere(r, q)\n",
    "a *= data['<Y>'][0] / a[0]\n",
    "plt.plot(q, a)\n",
    "plt.ylim([0.1, 10000])\n",
    "plt.xlim([0, 0.5])\n",
    "plt.ylabel('$I(q)$/cm$^{-1}$')\n",
    "plt.xlabel('$q$/Å$^{-1}$')\n",
    "plt.tight_layout()\n",
    "plt.savefig('reports/figures/theory/sphere.pdf')"
   ]
  },
  {
   "cell_type": "code",
   "execution_count": null,
   "metadata": {},
   "outputs": [],
   "source": []
  },
  {
   "cell_type": "code",
   "execution_count": null,
   "metadata": {},
   "outputs": [],
   "source": []
  }
 ],
 "metadata": {
  "kernelspec": {
   "display_name": "Python 3",
   "language": "python",
   "name": "python3"
  },
  "language_info": {
   "codemirror_mode": {
    "name": "ipython",
    "version": 3
   },
   "file_extension": ".py",
   "mimetype": "text/x-python",
   "name": "python",
   "nbconvert_exporter": "python",
   "pygments_lexer": "ipython3",
   "version": "3.7.0"
  },
  "latex_envs": {
   "LaTeX_envs_menu_present": true,
   "autoclose": false,
   "autocomplete": true,
   "bibliofile": "biblio.bib",
   "cite_by": "apalike",
   "current_citInitial": 1,
   "eqLabelWithNumbers": true,
   "eqNumInitial": 1,
   "hotkeys": {
    "equation": "Ctrl-E",
    "itemize": "Ctrl-I"
   },
   "labels_anchors": false,
   "latex_user_defs": false,
   "report_style_numbering": false,
   "user_envs_cfg": false
  }
 },
 "nbformat": 4,
 "nbformat_minor": 2
}
