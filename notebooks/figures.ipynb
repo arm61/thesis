{
 "cells": [
  {
   "cell_type": "code",
   "execution_count": null,
   "metadata": {},
   "outputs": [],
   "source": [
    "import numpy as np\n",
    "import matplotlib.pyplot as plt\n",
    "import seaborn as sns\n",
    "sns.set(palette='colorblind')"
   ]
  },
  {
   "cell_type": "code",
   "execution_count": null,
   "metadata": {},
   "outputs": [],
   "source": [
    "import matplotlib as mpl\n",
    "# Default parameters for matplotlib plots\n",
    "mpl.rcParams['xtick.labelsize'] = 8\n",
    "mpl.rcParams['ytick.labelsize'] = 8\n",
    "mpl.rcParams['axes.facecolor'] = 'w'\n",
    "mpl.rcParams['lines.linewidth'] = 2\n",
    "#mpl.rcParams['axes.grid'] = True\n",
    "#mpl.rcParams['grid.color'] = (0.8, 0.8, 0.8)\n",
    "mpl.rcParams['xtick.top'] = False\n",
    "mpl.rcParams['xtick.bottom'] = True\n",
    "mpl.rcParams['ytick.left'] = True\n",
    "mpl.rcParams['grid.linestyle'] = '--'\n",
    "mpl.rcParams['legend.fontsize'] = 8\n",
    "mpl.rcParams['legend.facecolor'] = [1,1,1]\n",
    "mpl.rcParams['legend.framealpha'] = 0.75\n",
    "mpl.rcParams['axes.labelsize'] = 8\n",
    "mpl.rcParams['axes.linewidth'] = 1\n",
    "mpl.rcParams['axes.edgecolor'] = 'k'"
   ]
  },
  {
   "cell_type": "code",
   "execution_count": null,
   "metadata": {},
   "outputs": [],
   "source": [
    "x = np.arange(-10, 10, 0.01)\n",
    "y = np.ones_like(x) * 2.0719e-6\n",
    "for i in range(0, len(x)):\n",
    "    if x[i] < 0:\n",
    "        y[i] = 0"
   ]
  },
  {
   "cell_type": "code",
   "execution_count": null,
   "metadata": {},
   "outputs": [],
   "source": [
    "x2 = np.array(x[:-1])\n",
    "y2 = np.array(x[:-1])\n",
    "for i in range(0, len(x)-1):\n",
    "    y2[i] = (y[i+1] - y[i]) / (x[i+1] - x[i])"
   ]
  },
  {
   "cell_type": "code",
   "execution_count": null,
   "metadata": {},
   "outputs": [],
   "source": [
    "q = np.arange(0.0001, 0.6001, 0.0001)\n",
    "r = np.zeros_like(q)\n",
    "for i in range(0, len(q)):\n",
    "    r[i] = np.sum((y2 * np.exp(-1j * x2 * q[i])) ** 2)\n",
    "    r[i] *= 16 * np.pi ** 2\n",
    "    r[i] /= q[i] ** 4"
   ]
  },
  {
   "cell_type": "code",
   "execution_count": null,
   "metadata": {},
   "outputs": [],
   "source": [
    "import matplotlib.gridspec as gridspec\n",
    "plt.figure(figsize=(5, 25/6))\n",
    "gs = gridspec.GridSpec(2, 2)\n",
    "ax = plt.subplot(gs[0, 0])\n",
    "ax.plot(x, y*1e6)\n",
    "ax.set_xlabel(r'$z$/Å')\n",
    "ax.set_ylabel(r'$\\rho(z)$/$\\times10^{-6}$ Å$^{-2}$')\n",
    "ax.set_xlim([-10, 10])\n",
    "ax.set_xticks(np.arange(-10, 15, 5))\n",
    "ax.text(0.1, 0.92, '(a)',\n",
    "        horizontalalignment='center',\n",
    "        verticalalignment='center',\n",
    "        transform=ax.transAxes, size=8)\n",
    "ax = plt.subplot(gs[0, 1])\n",
    "ax.plot(x2, y2*1e4)\n",
    "ax.set_xlabel(r'$z$/Å')\n",
    "ax.set_ylabel(r\"$\\rho'(z)$/$\\times10^{-6}$ Å$^{-3}$\")\n",
    "ax.set_xlim([-10, 10])\n",
    "ax.set_xticks(np.arange(-10, 15, 5))\n",
    "ax.text(0.1, 0.92, '(b)',\n",
    "        horizontalalignment='center',\n",
    "        verticalalignment='center',\n",
    "        transform=ax.transAxes, size=8)\n",
    "ax = plt.subplot(gs[1, :])\n",
    "ax.plot(q, r)\n",
    "ax.plot(q, np.ones_like(q))\n",
    "ax.set_xlabel(r'$q$/Å$^{-1}$')\n",
    "ax.set_ylabel(r'$R(q)$')\n",
    "ax.text(0.05, 0.92, '(c)',\n",
    "        horizontalalignment='center',\n",
    "        verticalalignment='center',\n",
    "        transform=ax.transAxes, size=8)\n",
    "ax.set_yscale('log')\n",
    "ax.set_xlim([0, 0.6])\n",
    "plt.tight_layout()\n",
    "plt.savefig('reports/figures/theory/kine.pdf')\n",
    "plt.close()"
   ]
  },
  {
   "cell_type": "code",
   "execution_count": null,
   "metadata": {},
   "outputs": [],
   "source": []
  },
  {
   "cell_type": "code",
   "execution_count": null,
   "metadata": {},
   "outputs": [],
   "source": []
  }
 ],
 "metadata": {
  "kernelspec": {
   "display_name": "Python [conda env:thesis]",
   "language": "python",
   "name": "conda-env-thesis-py"
  },
  "language_info": {
   "codemirror_mode": {
    "name": "ipython",
    "version": 3
   },
   "file_extension": ".py",
   "mimetype": "text/x-python",
   "name": "python",
   "nbconvert_exporter": "python",
   "pygments_lexer": "ipython3",
   "version": "3.7.0"
  },
  "latex_envs": {
   "LaTeX_envs_menu_present": true,
   "autoclose": false,
   "autocomplete": true,
   "bibliofile": "biblio.bib",
   "cite_by": "apalike",
   "current_citInitial": 1,
   "eqLabelWithNumbers": true,
   "eqNumInitial": 1,
   "hotkeys": {
    "equation": "Ctrl-E",
    "itemize": "Ctrl-I"
   },
   "labels_anchors": false,
   "latex_user_defs": false,
   "report_style_numbering": false,
   "user_envs_cfg": false
  }
 },
 "nbformat": 4,
 "nbformat_minor": 2
}
