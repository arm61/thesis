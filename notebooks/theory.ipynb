{
 "cells": [
  {
   "cell_type": "markdown",
   "metadata": {},
   "source": [
    "# Plotting of figures for the theory chapter\n",
    "\n",
    "This notebook will plot the figures that are used in the theory chapter of the thesis.\n",
    "\n",
    "This first code block simply defines a function for figuring out if we are in a notebook or the notebook has been converted to a python script and is being run on the command line. \n",
    "It also imports the required modules for the plotting of the data, and sets the `rcParams` desired such that the plots are consistant. "
   ]
  },
  {
   "cell_type": "code",
   "execution_count": 1,
   "metadata": {},
   "outputs": [],
   "source": [
    "def in_ipynb():\n",
    "    try:\n",
    "        if get_ipython().__class__.__name__ == 'ZMQInteractiveShell':\n",
    "            return True\n",
    "        else:\n",
    "            return False\n",
    "    except NameError:\n",
    "        return False\n",
    "\n",
    "import numpy as np\n",
    "import matplotlib.pyplot as plt\n",
    "import seaborn as sns\n",
    "import sys\n",
    "import matplotlib.gridspec as gridspec\n",
    "import pandas as pd\n",
    "import warnings\n",
    "\n",
    "warnings.filterwarnings(\"ignore\")\n",
    "\n",
    "sns.set(palette='colorblind')\n",
    "if in_ipynb():\n",
    "    sys.path.insert(0, '../reports/code_blocks/')\n",
    "else:\n",
    "    sys.path.insert(0, 'reports/code_blocks/')\n",
    "import reflectometry as refl\n",
    "\n",
    "import matplotlib as mpl\n",
    "mpl.rcParams['xtick.labelsize'] = 8\n",
    "mpl.rcParams['ytick.labelsize'] = 8\n",
    "mpl.rcParams['axes.facecolor'] = 'w'\n",
    "mpl.rcParams['lines.linewidth'] = 2\n",
    "mpl.rcParams['xtick.top'] = False\n",
    "mpl.rcParams['xtick.bottom'] = True\n",
    "mpl.rcParams['ytick.left'] = True\n",
    "mpl.rcParams['grid.linestyle'] = '--'\n",
    "mpl.rcParams['legend.fontsize'] = 8\n",
    "mpl.rcParams['legend.facecolor'] = [1,1,1]\n",
    "mpl.rcParams['legend.framealpha'] = 0.75\n",
    "mpl.rcParams['axes.labelsize'] = 8\n",
    "mpl.rcParams['axes.linewidth'] = 1\n",
    "mpl.rcParams['axes.edgecolor'] = 'k'"
   ]
  },
  {
   "cell_type": "markdown",
   "metadata": {},
   "source": [
    "This plot shows the reflectometry profile that arises from the kinematic method for calculating reflectometry. \n",
    "It is clear that at low-*q*, the method breaks down as *R* is greater than 1. "
   ]
  },
  {
   "cell_type": "code",
   "execution_count": 2,
   "metadata": {},
   "outputs": [
    {
     "data": {
      "image/png": "[encoded data removed]",
      "text/plain": [
       "<Figure size 360x300 with 3 Axes>"
      ]
     },
     "metadata": {
      "needs_background": "light"
     },
     "output_type": "display_data"
    }
   ],
   "source": [
    "x = np.arange(-10, 10, 0.01)\n",
    "y = np.ones_like(x) * 2.0719e-6\n",
    "for i in range(0, len(x)):\n",
    "    if x[i] < 0:\n",
    "        y[i] = 0\n",
    "\n",
    "x2 = np.array(x[:-1])\n",
    "y2 = np.array(x[:-1])\n",
    "for i in range(0, len(x)-1):\n",
    "    y2[i] = (y[i+1] - y[i]) / (x[i+1] - x[i])\n",
    "\n",
    "q = np.arange(0.0005, 0.101, 0.0005)\n",
    "r = np.zeros_like(q)\n",
    "for i in range(0, len(q)):\n",
    "    r[i] = np.sum((y2 * np.exp(-1j * x2 * q[i])) ** 2)\n",
    "    r[i] *= 16 * np.pi ** 2\n",
    "    r[i] /= q[i] ** 4\n",
    "\n",
    "plt.figure(figsize=(5, 25/6))\n",
    "gs = gridspec.GridSpec(2, 2)\n",
    "ax = plt.subplot(gs[0, 0])\n",
    "ax.plot(x, y*1e6)\n",
    "ax.set_xlabel(r'$z$/Å')\n",
    "ax.set_ylabel(r'$\\rho(z)$/$\\times10^{-6}$ Å$^{-2}$')\n",
    "ax.set_xlim([-10, 10])\n",
    "ax.set_xticks(np.arange(-10, 15, 5))\n",
    "ax.text(0.1, 0.92, '(a)',\n",
    "        horizontalalignment='center',\n",
    "        verticalalignment='center',\n",
    "        transform=ax.transAxes, size=8)\n",
    "ax = plt.subplot(gs[0, 1])\n",
    "ax.plot(x2, y2*1e4)\n",
    "ax.set_xlabel(r'$z$/Å')\n",
    "ax.set_ylabel(r\"$\\rho'(z)$/$\\times10^{-6}$ Å$^{-3}$\")\n",
    "ax.set_xlim([-10, 10])\n",
    "ax.set_xticks(np.arange(-10, 15, 5))\n",
    "ax.text(0.1, 0.92, '(b)',\n",
    "        horizontalalignment='center',\n",
    "        verticalalignment='center',\n",
    "        transform=ax.transAxes, size=8)\n",
    "ax = plt.subplot(gs[1, :])\n",
    "ra = refl.abeles(q, np.array([0, 2.0719e-6]), np.array([10, 10]))\n",
    "ax.plot(q, r * ra[-1]/r[-1], zorder=10)\n",
    "ax.plot(q, np.ones_like(q), lw=1)\n",
    "ax.set_xlabel(r'$q$/Å$^{-1}$')\n",
    "ax.set_ylabel(r'$R(q)$')\n",
    "ax.text(0.05, 0.92, '(c)',\n",
    "        horizontalalignment='center',\n",
    "        verticalalignment='center',\n",
    "        transform=ax.transAxes, size=8)\n",
    "ax.set_yscale('log')\n",
    "ax.set_xlim([0, 0.1])\n",
    "plt.tight_layout()\n",
    "if in_ipynb():\n",
    "    plt.show()\n",
    "else:\n",
    "    plt.savefig('reports/figures/theory/kine.pdf')\n",
    "    plt.close()"
   ]
  },
  {
   "cell_type": "markdown",
   "metadata": {},
   "source": [
    "This plot compares the kinematic with the dynamical approach. \n",
    "Showing that the dynamical approach does not voilate the prequisit of reflectometry. "
   ]
  },
  {
   "cell_type": "code",
   "execution_count": 3,
   "metadata": {
    "scrolled": false
   },
   "outputs": [
    {
     "data": {
      "image/png": "[encoded data removed]",
      "text/plain": [
       "<Figure size 360x163.636 with 1 Axes>"
      ]
     },
     "metadata": {
      "needs_background": "light"
     },
     "output_type": "display_data"
    }
   ],
   "source": [
    "x = np.arange(-10, 10, 0.01)\n",
    "y = np.ones_like(x) * 2.0719e-6\n",
    "for i in range(0, len(x)):\n",
    "    if x[i] < 0:\n",
    "        y[i] = 0\n",
    "        \n",
    "x2 = np.array(x[:-1])\n",
    "y2 = np.array(x[:-1])\n",
    "for i in range(0, len(x)-1):\n",
    "    y2[i] = (y[i+1] - y[i]) / (x[i+1] - x[i])\n",
    "    \n",
    "q = np.arange(0.0005, 0.101, 0.0005)\n",
    "r = np.zeros_like(q)\n",
    "for i in range(0, len(q)):\n",
    "    r[i] = np.sum((y2 * np.exp(-1j * x2 * q[i])) ** 2)\n",
    "    r[i] *= 16 * np.pi ** 2\n",
    "    r[i] /= q[i] ** 4\n",
    "\n",
    "plt.figure(figsize=(5, 25/11))\n",
    "gs = gridspec.GridSpec(1, 2)\n",
    "ax = plt.subplot(gs[0, :])\n",
    "ra = refl.abeles(q, np.array([0, 2.0719e-6]), np.array([10, 10]))\n",
    "ax.plot(q, ra, '--', zorder=10, c='#029E73')\n",
    "ax.plot(q, r * ra[-1]/r[-1], zorder=9, c='#0173B2')\n",
    "ax.plot(q, np.ones_like(q), c='#DE8F05', lw=1)\n",
    "ax.set_xlabel(r'$q$/Å$^{-1}$')\n",
    "ax.set_ylabel(r'$R(q)$')\n",
    "ax.set_yscale('log')\n",
    "ax.set_xlim([0, 0.1])\n",
    "plt.tight_layout()\n",
    "if in_ipynb():\n",
    "    plt.show()\n",
    "else:\n",
    "    plt.savefig('reports/figures/theory/dyna.pdf')\n",
    "    plt.close()"
   ]
  },
  {
   "cell_type": "markdown",
   "metadata": {},
   "source": [
    "This plot represents the length scales that can be probed in reciprocal space."
   ]
  },
  {
   "cell_type": "code",
   "execution_count": 4,
   "metadata": {
    "scrolled": false
   },
   "outputs": [
    {
     "data": {
      "image/png": "[encoded data removed]",
      "text/plain": [
       "<Figure size 360x163.636 with 2 Axes>"
      ]
     },
     "metadata": {
      "needs_background": "light"
     },
     "output_type": "display_data"
    }
   ],
   "source": [
    "x = np.arange(-10, 10, 0.005)\n",
    "beta = np.zeros_like(x)\n",
    "beta[np.where((x >= -5) & (x < 5))] = 1\n",
    "qx = np.arange(-1.5, 1.5, 0.001)\n",
    "dsc = np.zeros_like(qx)\n",
    "for i, q in enumerate(qx):\n",
    "    dsc[i] = np.sum(beta * np.exp(1j * q * x)) ** 2\n",
    "plt.figure(figsize=(5, 25/11))\n",
    "gs = gridspec.GridSpec(1, 2)\n",
    "ax = plt.subplot(gs[0, 0])\n",
    "ax.plot(x,beta)\n",
    "ax.set_yticks([0])\n",
    "ax.set_xlabel(r'x/Å')\n",
    "ax.set_ylabel(r'$\\beta/$Å$^{-2}$')\n",
    "ax.text(0.075, 0.92, '(a)',\n",
    "        horizontalalignment='center',\n",
    "        verticalalignment='center',\n",
    "        transform=ax.transAxes, size=8)\n",
    "ax = plt.subplot(gs[0, 1])\n",
    "ax.plot(qx, dsc)\n",
    "ax.set_yticks([0])\n",
    "ax.set_xticks([-1.2566, -0.6283, 0, 0.6283, 1.2566])\n",
    "ax.set_xticklabels([r'$\\frac{-4\\pi}{d_x}$', r'$\\frac{-2\\pi}{d_x}$', 0, r'$\\frac{2\\pi}{d_x}$', r'$\\frac{4\\pi}{d_x}$'])\n",
    "ax.set_xlabel(r'$q_x$/Å$^{-1}$')\n",
    "ax.set_ylabel(r'$\\frac{d\\sigma}{d\\Omega}$/Å$^{2}$')\n",
    "ax.text(0.075, 0.92, '(b)',\n",
    "        horizontalalignment='center',\n",
    "        verticalalignment='center',\n",
    "        transform=ax.transAxes, size=8)\n",
    "plt.tight_layout()\n",
    "if in_ipynb():\n",
    "    plt.show()\n",
    "else:\n",
    "    plt.savefig('reports/figures/theory/scales.pdf')\n",
    "    plt.close()"
   ]
  },
  {
   "cell_type": "markdown",
   "metadata": {},
   "source": [
    "This plot shows the Guinier analysis method in action. "
   ]
  },
  {
   "cell_type": "code",
   "execution_count": 5,
   "metadata": {},
   "outputs": [
    {
     "data": {
      "image/png": "[encoded data removed]",
      "text/plain": [
       "<Figure size 360x300 with 2 Axes>"
      ]
     },
     "metadata": {
      "needs_background": "light"
     },
     "output_type": "display_data"
    }
   ],
   "source": [
    "def sphere(r, q):\n",
    "     return np.square(np.divide((3 * (np.sin(q * r) - q * r * np.cos(q * r))), np.power((q * r), 3)))\n",
    "\n",
    "q = np.linspace(0.001, 0.75, 100)\n",
    "i = sphere(20, q)\n",
    "i[np.where(i<0.0001)] = 0.0001\n",
    "plt.figure(figsize=(5, 25/6))\n",
    "gs = gridspec.GridSpec(2, 1)\n",
    "ax = plt.subplot(gs[0, 0])\n",
    "ax.plot(q, i)\n",
    "ax.set_xscale('log')\n",
    "ax.set_yscale('log')\n",
    "ax.set_xlabel(r'$q$/Å$^{-1}$')\n",
    "ax.set_ylabel(r'$I(q)$')\n",
    "ax.set_xlim(0.01, 0.75)\n",
    "ax.text(0.05, 0.08, '(a)',\n",
    "        horizontalalignment='center',\n",
    "        verticalalignment='center',\n",
    "        transform=ax.transAxes, size=8)\n",
    "ax1 = plt.subplot(gs[1, 0])\n",
    "ax1.plot(q * q, np.log(i))\n",
    "ax1.plot(q[:40] * q[:40], -((20 * np.sqrt(3 / 5)) ** 2 / 3) * q[:40] * q[:40])\n",
    "ax1.set_xlim(0.0, 0.25)\n",
    "ax1.set_xlabel(r'$q^2$/Å$^{-2}$')\n",
    "ax1.set_ylabel(r'ln[$I(q)$]')\n",
    "ax1.text(0.05, 0.08, '(b)',\n",
    "        horizontalalignment='center',\n",
    "        verticalalignment='center',\n",
    "        transform=ax1.transAxes, size=8)\n",
    "plt.tight_layout()\n",
    "if in_ipynb():\n",
    "    plt.show()\n",
    "else:\n",
    "    plt.savefig('reports/figures/theory/rg.pdf')\n",
    "    plt.close()"
   ]
  },
  {
   "cell_type": "markdown",
   "metadata": {},
   "source": [
    "This plot compares *real* scattering from a sphere with that from the analytical equation. "
   ]
  },
  {
   "cell_type": "code",
   "execution_count": 6,
   "metadata": {},
   "outputs": [
    {
     "data": {
      "image/png": "[encoded data removed]",
      "text/plain": [
       "<Figure size 360x163.636 with 1 Axes>"
      ]
     },
     "metadata": {
      "needs_background": "light"
     },
     "output_type": "display_data"
    }
   ],
   "source": [
    "if in_ipynb():\n",
    "    exp_file = '../data/theory/Experimental-sphere.txt'\n",
    "else:\n",
    "    exp_file = 'data/theory/Experimental-sphere.txt'\n",
    "\n",
    "data = pd.read_csv(exp_file, delim_whitespace=True)\n",
    "\n",
    "plt.figure(figsize=(5, 25/11))\n",
    "plt.errorbar(data['<X>'], data['<Y>'], yerr=data['<Y>']*0.1, marker='o', ls='')\n",
    "plt.yscale('log')\n",
    "r = 50\n",
    "q = np.linspace(data['<X>'].iloc[0], data['<X>'].iloc[-1], 1000)\n",
    "a = sphere(r, q)\n",
    "a *= data['<Y>'][0] / a[0]\n",
    "plt.plot(q, a)\n",
    "plt.ylim([0.1, 10000])\n",
    "plt.xlim([0, 0.5])\n",
    "plt.ylabel('$I(q)$/cm$^{-1}$')\n",
    "plt.xlabel('$q$/Å$^{-1}$')\n",
    "plt.tight_layout()\n",
    "if in_ipynb():\n",
    "    plt.show()\n",
    "else:\n",
    "    plt.savefig('reports/figures/theory/sphere.pdf')\n",
    "    plt.close()"
   ]
  },
  {
   "cell_type": "code",
   "execution_count": null,
   "metadata": {},
   "outputs": [],
   "source": []
  },
  {
   "cell_type": "code",
   "execution_count": null,
   "metadata": {},
   "outputs": [],
   "source": []
  }
 ],
 "metadata": {
  "kernelspec": {
   "display_name": "Python 3",
   "language": "python",
   "name": "python3"
  },
  "language_info": {
   "codemirror_mode": {
    "name": "ipython",
    "version": 3
   },
   "file_extension": ".py",
   "mimetype": "text/x-python",
   "name": "python",
   "nbconvert_exporter": "python",
   "pygments_lexer": "ipython3",
   "version": "3.6.7"
  },
  "latex_envs": {
   "LaTeX_envs_menu_present": true,
   "autoclose": false,
   "autocomplete": true,
   "bibliofile": "biblio.bib",
   "cite_by": "apalike",
   "current_citInitial": 1,
   "eqLabelWithNumbers": true,
   "eqNumInitial": 1,
   "hotkeys": {
    "equation": "Ctrl-E",
    "itemize": "Ctrl-I"
   },
   "labels_anchors": false,
   "latex_user_defs": false,
   "report_style_numbering": false,
   "user_envs_cfg": false
  }
 },
 "nbformat": 4,
 "nbformat_minor": 2
}
